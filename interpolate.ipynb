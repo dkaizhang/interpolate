{
  "nbformat": 4,
  "nbformat_minor": 0,
  "metadata": {
    "colab": {
      "provenance": [],
      "authorship_tag": "ABX9TyOE5KTbcWD8jT9RKWBi571P",
      "include_colab_link": true
    },
    "kernelspec": {
      "name": "python3",
      "display_name": "Python 3"
    },
    "language_info": {
      "name": "python"
    }
  },
  "cells": [
    {
      "cell_type": "markdown",
      "metadata": {
        "id": "view-in-github",
        "colab_type": "text"
      },
      "source": [
        "<a href=\"https://colab.research.google.com/github/dkaizhang/interpolate/blob/main/interpolate.ipynb\" target=\"_parent\"><img src=\"https://colab.research.google.com/assets/colab-badge.svg\" alt=\"Open In Colab\"/></a>"
      ]
    },
    {
      "cell_type": "code",
      "execution_count": null,
      "metadata": {
        "id": "6qePT6XH31Ol"
      },
      "outputs": [],
      "source": [
        "import pandas as pd\n",
        "from scipy.interpolate import interp1d\n",
        "import numpy as np\n"
      ]
    },
    {
      "cell_type": "markdown",
      "source": [
        "gvc - this is where we get the implied vol for all underlyings and hedges.\n",
        "\n",
        "hedge_bv - this is what I use to pull the implied vol for the hedge\n",
        "\n",
        "For these two, I could create a table with all of the days and find the interpolated implied vol for the 22 day expiry. I think all I need are 'calculated_at' and 'interpolated vol'\n",
        "\n",
        "rr - this is the realised for the underlying and hedge. the same row has both\n",
        "I think this will not change in how I pull it. There will be different lookbacks.\n",
        "\n",
        "scores - this is the source for the vol scores\n",
        "For this I also should create a table with all of the days in common with gvc and find the interpolated scores for the 22 day expiry."
      ],
      "metadata": {
        "id": "9DG4V5TjHcIp"
      }
    },
    {
      "cell_type": "code",
      "source": [
        "df1 = pd.DataFrame({\n",
        "    'calculated_at': pd.to_datetime(['2024-01-01', '2024-01-02']),\n",
        "    'synthetic_expiry': pd.to_datetime(['2024-02-01','2024-02-02'])\n",
        "})\n",
        "\n",
        "df2 = pd.DataFrame({\n",
        "    'calculated_at': pd.to_datetime(['2024-01-01', '2024-01-01', '2024-01-01', '2024-01-02', '2024-01-02',  '2024-01-02']),\n",
        "    'expiry': pd.to_datetime(['2024-01-28', '2024-01-29', '2024-01-30', '2024-01-28', '2024-02-05','2024-03-05']),\n",
        "    'value': [100, 100, 101, 100, 200, 10000]\n",
        "})"
      ],
      "metadata": {
        "id": "y9iAGxYq4FCm"
      },
      "execution_count": null,
      "outputs": []
    },
    {
      "cell_type": "code",
      "source": [
        "# Function to interpolate value based on the closest dates\n",
        "def interpolate_value(row, df2):\n",
        "    # Filter df2 by the same calculated_at\n",
        "    df2_filtered = df2[df2['calculated_at'] == row['calculated_at']]\n",
        "\n",
        "    # Sort the filtered df2 by expiry\n",
        "    df2_sorted = df2_filtered.sort_values('expiry')\n",
        "\n",
        "    # Find the two closest expiry dates\n",
        "    expiry_dates = df2_sorted['expiry']\n",
        "    values = df2_sorted['value']\n",
        "\n",
        "    # If there are less than 2 points, interpolation is not possible\n",
        "    if len(expiry_dates) < 2:\n",
        "        return np.nan\n",
        "\n",
        "    # Perform interpolation\n",
        "    interp_func = interp1d(expiry_dates.astype(np.int64), values, fill_value='extrapolate')\n",
        "    interpolated_value = interp_func(row['synthetic_expiry'].value)\n",
        "\n",
        "    return interpolated_value"
      ],
      "metadata": {
        "id": "xwCxgA2h5Zwh"
      },
      "execution_count": null,
      "outputs": []
    },
    {
      "cell_type": "code",
      "source": [
        "# Apply the interpolation function to each row in df1\n",
        "df1['interpolated_value'] = df1.apply(interpolate_value, axis=1, df2=df2)\n",
        "\n",
        "# Display the resulting dataframe\n",
        "print(df1)"
      ],
      "metadata": {
        "colab": {
          "base_uri": "https://localhost:8080/"
        },
        "id": "qpNf9yYK6ALx",
        "outputId": "8b6c0121-96bf-45f2-cdbf-abab5bc1457a"
      },
      "execution_count": null,
      "outputs": [
        {
          "output_type": "stream",
          "name": "stdout",
          "text": [
            "  calculated_at synthetic_expiry interpolated_value\n",
            "0    2024-01-01       2024-02-01              103.0\n",
            "1    2024-01-02       2024-02-02              162.5\n"
          ]
        }
      ]
    },
    {
      "cell_type": "code",
      "source": [],
      "metadata": {
        "id": "uODLpIp-6A7a"
      },
      "execution_count": null,
      "outputs": []
    }
  ]
}